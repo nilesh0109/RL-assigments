{
  "nbformat": 4,
  "nbformat_minor": 0,
  "metadata": {
    "colab": {
      "name": "Easy21.ipynb",
      "version": "0.3.2",
      "provenance": [],
      "collapsed_sections": [],
      "include_colab_link": true
    },
    "kernelspec": {
      "name": "python3",
      "display_name": "Python 3"
    }
  },
  "cells": [
    {
      "cell_type": "markdown",
      "metadata": {
        "id": "view-in-github",
        "colab_type": "text"
      },
      "source": [
        "<a href=\"https://colab.research.google.com/github/nilesh0109/RL-assignments/blob/master/Easy21.ipynb\" target=\"_parent\"><img src=\"https://colab.research.google.com/assets/colab-badge.svg\" alt=\"Open In Colab\"/></a>"
      ]
    },
    {
      "cell_type": "code",
      "metadata": {
        "id": "uKQkSyv07NK0",
        "colab_type": "code",
        "colab": {}
      },
      "source": [
        "import numpy as np"
      ],
      "execution_count": 0,
      "outputs": []
    },
    {
      "cell_type": "code",
      "metadata": {
        "id": "bu8dz8aA77rK",
        "colab_type": "code",
        "colab": {}
      },
      "source": [
        "class human:\n",
        "  def __init__(self, name):\n",
        "    self.name=name\n",
        "    self.black_cards = []\n",
        "    self.red_cards = []\n",
        "    \n",
        "class state:\n",
        "  def __init__(self, d_card, p_cards):\n",
        "    self.d_card = d_card.black_cards[0]\n",
        "    self.p_sum = int(np.sum(p_cards.black_cards) - np.sum(p_cards.red_cards))"
      ],
      "execution_count": 0,
      "outputs": []
    },
    {
      "cell_type": "code",
      "metadata": {
        "id": "flWVbi6O7Q8F",
        "colab_type": "code",
        "colab": {}
      },
      "source": [
        "class Easy21:\n",
        "  def start(self):\n",
        "    self.dealer = human('dealer')\n",
        "    self.player = human('player')\n",
        "    self.draw(self.dealer, 'black')\n",
        "    self.draw(self.player, 'black')\n",
        "    self.s = state(self.dealer, self.player)\n",
        "    \n",
        "  def getScore(self, player):\n",
        "    return np.sum(player.black_cards) - np.sum(player.red_cards)\n",
        "  \n",
        "  def draw(self, drawer, color=None):\n",
        "    if color=='black':\n",
        "      drawer.black_cards.append(np.random.randint(1,11))\n",
        "    else:\n",
        "      color = np.random.choice(2, p=[1/3, 2/3])\n",
        "      if color == 0:\n",
        "        drawer.black_cards.append(np.random.randint(1,11))\n",
        "      else:\n",
        "        drawer.red_cards.append(np.random.randint(1,11))\n",
        "      self.s = state(self.dealer, self.player)\n",
        "    \n",
        "  def step(self, s, a='hit'):\n",
        "    if a=='hit':\n",
        "      self.draw(self.player)\n",
        "    else:\n",
        "      self.draw(self.dealer)\n",
        "      dealer_score = getScore(self.dealer)\n",
        "      while(dealer_score > 0 and dealer_score <17):\n",
        "        #since dealer is drawing here so player is sticking\n",
        "        self.draw(self.s, a='stick')\n",
        "    r = self.calc_rewards()\n",
        "    \n",
        "    return self.s, r\n",
        "  \n",
        "  def calc_rewards(self):\n",
        "    player_score = self.getScore(self.player)\n",
        "    dealer_score = self.getScore(self.dealer)\n",
        "    print(self.player.name, self.player.black_cards, self.player.red_cards)\n",
        "    print(self.dealer.name, self.dealer.black_cards, self.dealer.red_cards)\n",
        "    print(player_score, dealer_score)\n",
        "    if player_score < 1 or player_score > 21:\n",
        "      return -1\n",
        "    elif dealer_score < 1 or dealer_score > 21:\n",
        "      return 1\n",
        "    else:\n",
        "      return (player_score - dealer_score) / (np.abs(player_score - dealer_score))\n",
        "    \n",
        "    "
      ],
      "execution_count": 0,
      "outputs": []
    },
    {
      "cell_type": "code",
      "metadata": {
        "id": "algKEuTE8_Xv",
        "colab_type": "code",
        "outputId": "c0c814f2-6cc5-4ce2-a3c1-20c58a0728e8",
        "colab": {
          "base_uri": "https://localhost:8080/",
          "height": 136
        }
      },
      "source": [
        "game = Easy21()\n",
        "game.start()\n",
        "print('initial state is \\nDealer initial card = {:d} \\nplayer initial card = {:d}'.format(game.s.d_card, game.s.p_sum))\n",
        "game.step(game.s)"
      ],
      "execution_count": 0,
      "outputs": [
        {
          "output_type": "stream",
          "text": [
            "initial state is \n",
            "Dealer initial card = 9 \n",
            "player initial card = 9\n",
            "player [9] [6]\n",
            "dealer [9] []\n",
            "3 9.0\n"
          ],
          "name": "stdout"
        },
        {
          "output_type": "execute_result",
          "data": {
            "text/plain": [
              "(<__main__.state at 0x7ff3d4967518>, -1.0)"
            ]
          },
          "metadata": {
            "tags": []
          },
          "execution_count": 134
        }
      ]
    },
    {
      "cell_type": "code",
      "metadata": {
        "id": "bMIWTFx-9hcQ",
        "colab_type": "code",
        "outputId": "cb2594e5-7a41-47ae-85da-7298c2b6dd83",
        "colab": {
          "base_uri": "https://localhost:8080/",
          "height": 51
        }
      },
      "source": [
        ""
      ],
      "execution_count": 0,
      "outputs": [
        {
          "output_type": "stream",
          "text": [
            "2\n",
            "4\n"
          ],
          "name": "stdout"
        }
      ]
    }
  ]
}